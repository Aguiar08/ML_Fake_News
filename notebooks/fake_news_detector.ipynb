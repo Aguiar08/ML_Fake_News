{
  "nbformat": 4,
  "nbformat_minor": 5,
  "metadata": {
    "kernelspec": {
      "display_name": "Python 3",
      "language": "python",
      "name": "python3"
    },
    "language_info": {
      "codemirror_mode": {
        "name": "ipython",
        "version": 3
      },
      "file_extension": ".py",
      "mimetype": "text/x-python",
      "name": "python",
      "nbconvert_exporter": "python",
      "pygments_lexer": "ipython3",
      "version": "3.8.8"
    },
    "toc": {
      "base_numbering": 1,
      "nav_menu": {},
      "number_sections": false,
      "sideBar": false,
      "skip_h1_title": false,
      "title_cell": "Table of Contents",
      "title_sidebar": "Contents",
      "toc_cell": false,
      "toc_position": {},
      "toc_section_display": false,
      "toc_window_display": false
    },
    "colab": {
      "name": "fake-news-detector.ipynb",
      "provenance": [],
      "collapsed_sections": []
    }
  },
  "cells": [
    {
      "cell_type": "markdown",
      "metadata": {
        "id": "AeKjO95bT8LT"
      },
      "source": [
        "# MC886/MO444 - Projeto Final: Primeiro Resultado\n",
        "\n",
        "- André Vila Nova Wagner da Costa - RA: 213081\n",
        "- Breno Nunes Tavares - RA: 232238\n",
        "- Eduardo Carvalheira Teixeira de Aguiar - RA: 233686\n",
        "- Matheus Xavier Sampaio - RA: 220092"
      ],
      "id": "AeKjO95bT8LT"
    },
    {
      "cell_type": "code",
      "metadata": {
        "id": "nPT-aRXKkuZ3",
        "colab": {
          "base_uri": "https://localhost:8080/"
        },
        "outputId": "79beba13-4f68-4375-9687-788c102702de"
      },
      "source": [
        "!pip install -U scikit-learn matplotlib numpy pandas"
      ],
      "id": "nPT-aRXKkuZ3",
      "execution_count": null,
      "outputs": [
        {
          "output_type": "stream",
          "name": "stdout",
          "text": [
            "Requirement already satisfied: scikit-learn in /usr/local/lib/python3.7/dist-packages (1.0.1)\n",
            "Requirement already satisfied: matplotlib in /usr/local/lib/python3.7/dist-packages (3.4.3)\n",
            "Requirement already satisfied: numpy in /usr/local/lib/python3.7/dist-packages (1.21.4)\n",
            "Requirement already satisfied: pandas in /usr/local/lib/python3.7/dist-packages (1.3.4)\n",
            "Requirement already satisfied: joblib>=0.11 in /usr/local/lib/python3.7/dist-packages (from scikit-learn) (1.0.1)\n",
            "Requirement already satisfied: scipy>=1.1.0 in /usr/local/lib/python3.7/dist-packages (from scikit-learn) (1.4.1)\n",
            "Requirement already satisfied: threadpoolctl>=2.0.0 in /usr/local/lib/python3.7/dist-packages (from scikit-learn) (3.0.0)\n",
            "Requirement already satisfied: pyparsing>=2.2.1 in /usr/local/lib/python3.7/dist-packages (from matplotlib) (2.4.7)\n",
            "Requirement already satisfied: pillow>=6.2.0 in /usr/local/lib/python3.7/dist-packages (from matplotlib) (7.1.2)\n",
            "Requirement already satisfied: cycler>=0.10 in /usr/local/lib/python3.7/dist-packages (from matplotlib) (0.10.0)\n",
            "Requirement already satisfied: kiwisolver>=1.0.1 in /usr/local/lib/python3.7/dist-packages (from matplotlib) (1.3.2)\n",
            "Requirement already satisfied: python-dateutil>=2.7 in /usr/local/lib/python3.7/dist-packages (from matplotlib) (2.8.2)\n",
            "Requirement already satisfied: six in /usr/local/lib/python3.7/dist-packages (from cycler>=0.10->matplotlib) (1.15.0)\n",
            "Requirement already satisfied: pytz>=2017.3 in /usr/local/lib/python3.7/dist-packages (from pandas) (2018.9)\n"
          ]
        }
      ]
    },
    {
      "cell_type": "markdown",
      "metadata": {
        "id": "0L7CBZM5UPiZ"
      },
      "source": [
        "## Dados"
      ],
      "id": "0L7CBZM5UPiZ"
    },
    {
      "cell_type": "markdown",
      "metadata": {
        "id": "0DZo8DSVUWDq"
      },
      "source": [
        "### Download"
      ],
      "id": "0DZo8DSVUWDq"
    },
    {
      "cell_type": "code",
      "metadata": {
        "id": "3D13-oQDKIlW"
      },
      "source": [
        "# !wget -O FakeWhatsApp.Br.zip https://codeload.github.com/cabrau/FakeWhatsApp.Br/zip/refs/heads/master\n",
        "# !unzip FakeWhatsApp.Br.zip"
      ],
      "id": "3D13-oQDKIlW",
      "execution_count": null,
      "outputs": []
    },
    {
      "cell_type": "markdown",
      "metadata": {
        "id": "nQ6Ry_vAUY5o"
      },
      "source": [
        "### Carregando dados"
      ],
      "id": "nQ6Ry_vAUY5o"
    },
    {
      "cell_type": "code",
      "metadata": {
        "ExecuteTime": {
          "end_time": "2021-11-08T19:58:06.367023Z",
          "start_time": "2021-11-08T19:58:06.127730Z"
        },
        "id": "55c6d479"
      },
      "source": [
        "import pandas as pd\n",
        "import numpy as np\n",
        "import matplotlib.pyplot as plt"
      ],
      "id": "55c6d479",
      "execution_count": null,
      "outputs": []
    },
    {
      "cell_type": "code",
      "metadata": {
        "id": "OwPSTjY2UU_0"
      },
      "source": [
        "df_2018 = pd.read_csv('FakeWhatsApp.Br-master/data/2018/fakeWhatsApp.BR_2018_content_only.csv')\n",
        "df_2020 = pd.read_csv('FakeWhatsApp.Br-master/data/wpp_2020.csv')"
      ],
      "id": "OwPSTjY2UU_0",
      "execution_count": null,
      "outputs": []
    },
    {
      "cell_type": "code",
      "metadata": {
        "colab": {
          "base_uri": "https://localhost:8080/",
          "height": 204
        },
        "id": "obbUwUZoUwBI",
        "outputId": "eb72ada9-dfeb-4266-ac21-2458e97211db"
      },
      "source": [
        "df_2018.head()"
      ],
      "id": "obbUwUZoUwBI",
      "execution_count": null,
      "outputs": [
        {
          "output_type": "execute_result",
          "data": {
            "text/html": [
              "<div>\n",
              "<style scoped>\n",
              "    .dataframe tbody tr th:only-of-type {\n",
              "        vertical-align: middle;\n",
              "    }\n",
              "\n",
              "    .dataframe tbody tr th {\n",
              "        vertical-align: top;\n",
              "    }\n",
              "\n",
              "    .dataframe thead th {\n",
              "        text-align: right;\n",
              "    }\n",
              "</style>\n",
              "<table border=\"1\" class=\"dataframe\">\n",
              "  <thead>\n",
              "    <tr style=\"text-align: right;\">\n",
              "      <th></th>\n",
              "      <th>id</th>\n",
              "      <th>date</th>\n",
              "      <th>hour</th>\n",
              "      <th>shares</th>\n",
              "      <th>text</th>\n",
              "      <th>misinformation</th>\n",
              "    </tr>\n",
              "  </thead>\n",
              "  <tbody>\n",
              "    <tr>\n",
              "      <th>0</th>\n",
              "      <td>6942577183305588053</td>\n",
              "      <td>02/07/18</td>\n",
              "      <td>10:46</td>\n",
              "      <td>1</td>\n",
              "      <td>O dia em que ex-guerrilheiro, militantes e des...</td>\n",
              "      <td>1</td>\n",
              "    </tr>\n",
              "    <tr>\n",
              "      <th>1</th>\n",
              "      <td>-2072140886659020977</td>\n",
              "      <td>02/07/18</td>\n",
              "      <td>10:50</td>\n",
              "      <td>3</td>\n",
              "      <td>O nível dos jornalistas do programa Roda Viva ...</td>\n",
              "      <td>1</td>\n",
              "    </tr>\n",
              "    <tr>\n",
              "      <th>2</th>\n",
              "      <td>-5100443702615645928</td>\n",
              "      <td>02/07/18</td>\n",
              "      <td>11:03</td>\n",
              "      <td>2</td>\n",
              "      <td>*Atenção*\\n\\nPrecisamos da ajuda de todos você...</td>\n",
              "      <td>0</td>\n",
              "    </tr>\n",
              "    <tr>\n",
              "      <th>3</th>\n",
              "      <td>-1561843698204261697</td>\n",
              "      <td>02/07/18</td>\n",
              "      <td>16:32</td>\n",
              "      <td>5</td>\n",
              "      <td>Gestão do colombiano na capital, imagina ele n...</td>\n",
              "      <td>1</td>\n",
              "    </tr>\n",
              "    <tr>\n",
              "      <th>4</th>\n",
              "      <td>-5876784761398352499</td>\n",
              "      <td>02/07/18</td>\n",
              "      <td>18:09</td>\n",
              "      <td>2</td>\n",
              "      <td>🛑🛑🛑🛑🛑🛑\\nInterrompendo momentaneamente a conver...</td>\n",
              "      <td>1</td>\n",
              "    </tr>\n",
              "  </tbody>\n",
              "</table>\n",
              "</div>"
            ],
            "text/plain": [
              "                    id  ... misinformation\n",
              "0  6942577183305588053  ...              1\n",
              "1 -2072140886659020977  ...              1\n",
              "2 -5100443702615645928  ...              0\n",
              "3 -1561843698204261697  ...              1\n",
              "4 -5876784761398352499  ...              1\n",
              "\n",
              "[5 rows x 6 columns]"
            ]
          },
          "metadata": {},
          "execution_count": 5
        }
      ]
    },
    {
      "cell_type": "code",
      "metadata": {
        "colab": {
          "base_uri": "https://localhost:8080/",
          "height": 204
        },
        "id": "nETaWGskU0DL",
        "outputId": "31679961-24bf-45fc-97fb-858d9c768e9a"
      },
      "source": [
        "df_2020.head()"
      ],
      "id": "nETaWGskU0DL",
      "execution_count": null,
      "outputs": [
        {
          "output_type": "execute_result",
          "data": {
            "text/html": [
              "<div>\n",
              "<style scoped>\n",
              "    .dataframe tbody tr th:only-of-type {\n",
              "        vertical-align: middle;\n",
              "    }\n",
              "\n",
              "    .dataframe tbody tr th {\n",
              "        vertical-align: top;\n",
              "    }\n",
              "\n",
              "    .dataframe thead th {\n",
              "        text-align: right;\n",
              "    }\n",
              "</style>\n",
              "<table border=\"1\" class=\"dataframe\">\n",
              "  <thead>\n",
              "    <tr style=\"text-align: right;\">\n",
              "      <th></th>\n",
              "      <th>shares</th>\n",
              "      <th>text</th>\n",
              "      <th>misinformation</th>\n",
              "      <th>source</th>\n",
              "      <th>revision</th>\n",
              "    </tr>\n",
              "  </thead>\n",
              "  <tbody>\n",
              "    <tr>\n",
              "      <th>0</th>\n",
              "      <td>27</td>\n",
              "      <td>O ministro da Ciência, Tecnologia, Inovações e...</td>\n",
              "      <td>0</td>\n",
              "      <td>https://www.gov.br/pt-br/noticias/educacao-e-p...</td>\n",
              "      <td>NaN</td>\n",
              "    </tr>\n",
              "    <tr>\n",
              "      <th>1</th>\n",
              "      <td>26</td>\n",
              "      <td>Pesquisa com mais de 6.000 médicos em 30 paíse...</td>\n",
              "      <td>1</td>\n",
              "      <td>https://www.aosfatos.org/noticias/e-falso-que-...</td>\n",
              "      <td>NaN</td>\n",
              "    </tr>\n",
              "    <tr>\n",
              "      <th>2</th>\n",
              "      <td>25</td>\n",
              "      <td>É com muita alegria que comunico que mais um p...</td>\n",
              "      <td>0</td>\n",
              "      <td>http://portal.mec.gov.br/component/content/art...</td>\n",
              "      <td>NaN</td>\n",
              "    </tr>\n",
              "    <tr>\n",
              "      <th>3</th>\n",
              "      <td>25</td>\n",
              "      <td>Renda Brasil unificará vários programas sociai...</td>\n",
              "      <td>0</td>\n",
              "      <td>https://agenciabrasil.ebc.com.br/politica/noti...</td>\n",
              "      <td>NaN</td>\n",
              "    </tr>\n",
              "    <tr>\n",
              "      <th>4</th>\n",
              "      <td>24</td>\n",
              "      <td>O Secretário-Geral da OTAN Jens Stoltenberg ta...</td>\n",
              "      <td>0</td>\n",
              "      <td>NaN</td>\n",
              "      <td>1.0</td>\n",
              "    </tr>\n",
              "  </tbody>\n",
              "</table>\n",
              "</div>"
            ],
            "text/plain": [
              "   shares  ... revision\n",
              "0      27  ...      NaN\n",
              "1      26  ...      NaN\n",
              "2      25  ...      NaN\n",
              "3      25  ...      NaN\n",
              "4      24  ...      1.0\n",
              "\n",
              "[5 rows x 5 columns]"
            ]
          },
          "metadata": {},
          "execution_count": 6
        }
      ]
    },
    {
      "cell_type": "code",
      "metadata": {
        "id": "A0XfrEwDUsRW"
      },
      "source": [
        "df_2018['year'] = 2018\n",
        "df_2020['year'] = 2020\n",
        "cols = ['shares', 'year', 'text', 'misinformation']"
      ],
      "id": "A0XfrEwDUsRW",
      "execution_count": null,
      "outputs": []
    },
    {
      "cell_type": "code",
      "metadata": {
        "id": "IGeqRHzjUnLt"
      },
      "source": [
        "df_all = df_2018.append(df_2020)\n",
        "df_all.drop(columns=[*filter(lambda x: x not in cols, df_all.columns)], inplace=True)\n",
        "df_all.reset_index(drop=True, inplace=True)\n",
        "df_all = df_all[cols]"
      ],
      "id": "IGeqRHzjUnLt",
      "execution_count": null,
      "outputs": []
    },
    {
      "cell_type": "code",
      "metadata": {
        "colab": {
          "base_uri": "https://localhost:8080/",
          "height": 204
        },
        "id": "DL2dwzweVVlI",
        "outputId": "28608b93-c156-4064-b144-e018a4c1cf14"
      },
      "source": [
        "df_all.head()"
      ],
      "id": "DL2dwzweVVlI",
      "execution_count": null,
      "outputs": [
        {
          "output_type": "execute_result",
          "data": {
            "text/html": [
              "<div>\n",
              "<style scoped>\n",
              "    .dataframe tbody tr th:only-of-type {\n",
              "        vertical-align: middle;\n",
              "    }\n",
              "\n",
              "    .dataframe tbody tr th {\n",
              "        vertical-align: top;\n",
              "    }\n",
              "\n",
              "    .dataframe thead th {\n",
              "        text-align: right;\n",
              "    }\n",
              "</style>\n",
              "<table border=\"1\" class=\"dataframe\">\n",
              "  <thead>\n",
              "    <tr style=\"text-align: right;\">\n",
              "      <th></th>\n",
              "      <th>shares</th>\n",
              "      <th>year</th>\n",
              "      <th>text</th>\n",
              "      <th>misinformation</th>\n",
              "    </tr>\n",
              "  </thead>\n",
              "  <tbody>\n",
              "    <tr>\n",
              "      <th>0</th>\n",
              "      <td>1</td>\n",
              "      <td>2018</td>\n",
              "      <td>O dia em que ex-guerrilheiro, militantes e des...</td>\n",
              "      <td>1</td>\n",
              "    </tr>\n",
              "    <tr>\n",
              "      <th>1</th>\n",
              "      <td>3</td>\n",
              "      <td>2018</td>\n",
              "      <td>O nível dos jornalistas do programa Roda Viva ...</td>\n",
              "      <td>1</td>\n",
              "    </tr>\n",
              "    <tr>\n",
              "      <th>2</th>\n",
              "      <td>2</td>\n",
              "      <td>2018</td>\n",
              "      <td>*Atenção*\\n\\nPrecisamos da ajuda de todos você...</td>\n",
              "      <td>0</td>\n",
              "    </tr>\n",
              "    <tr>\n",
              "      <th>3</th>\n",
              "      <td>5</td>\n",
              "      <td>2018</td>\n",
              "      <td>Gestão do colombiano na capital, imagina ele n...</td>\n",
              "      <td>1</td>\n",
              "    </tr>\n",
              "    <tr>\n",
              "      <th>4</th>\n",
              "      <td>2</td>\n",
              "      <td>2018</td>\n",
              "      <td>🛑🛑🛑🛑🛑🛑\\nInterrompendo momentaneamente a conver...</td>\n",
              "      <td>1</td>\n",
              "    </tr>\n",
              "  </tbody>\n",
              "</table>\n",
              "</div>"
            ],
            "text/plain": [
              "   shares  ...  misinformation\n",
              "0       1  ...               1\n",
              "1       3  ...               1\n",
              "2       2  ...               0\n",
              "3       5  ...               1\n",
              "4       2  ...               1\n",
              "\n",
              "[5 rows x 4 columns]"
            ]
          },
          "metadata": {},
          "execution_count": 9
        }
      ]
    },
    {
      "cell_type": "markdown",
      "metadata": {
        "id": "HuqiqqHdWR91"
      },
      "source": [
        "### Analise inicial"
      ],
      "id": "HuqiqqHdWR91"
    },
    {
      "cell_type": "code",
      "metadata": {
        "id": "K6I_w0LjWQsJ"
      },
      "source": [
        "def print_size_and_counts(df):\n",
        "    print(len(df))\n",
        "    print(df['misinformation'].value_counts())"
      ],
      "id": "K6I_w0LjWQsJ",
      "execution_count": null,
      "outputs": []
    },
    {
      "cell_type": "code",
      "metadata": {
        "colab": {
          "base_uri": "https://localhost:8080/"
        },
        "id": "L9sgLV9OWYhv",
        "outputId": "af3e7905-19f7-49f3-8cac-9603a7cf1640"
      },
      "source": [
        "print_size_and_counts(df_all)"
      ],
      "id": "L9sgLV9OWYhv",
      "execution_count": null,
      "outputs": [
        {
          "output_type": "stream",
          "name": "stdout",
          "text": [
            "9824\n",
            "0    5610\n",
            "1    4214\n",
            "Name: misinformation, dtype: int64\n"
          ]
        }
      ]
    },
    {
      "cell_type": "markdown",
      "metadata": {
        "id": "kMxUSXhlVtR5"
      },
      "source": [
        "## Pre-processamento"
      ],
      "id": "kMxUSXhlVtR5"
    },
    {
      "cell_type": "markdown",
      "metadata": {
        "id": "kns8UjK3V4pQ"
      },
      "source": [
        "### Texto em caixa baixa"
      ],
      "id": "kns8UjK3V4pQ"
    },
    {
      "cell_type": "code",
      "metadata": {
        "ExecuteTime": {
          "end_time": "2021-11-08T19:42:44.178583Z",
          "start_time": "2021-11-08T19:42:44.053463Z"
        },
        "id": "0b75726c"
      },
      "source": [
        "df_all['text'] = df_all['text'].str.lower()"
      ],
      "id": "0b75726c",
      "execution_count": null,
      "outputs": []
    },
    {
      "cell_type": "code",
      "metadata": {
        "colab": {
          "base_uri": "https://localhost:8080/",
          "height": 204
        },
        "id": "sX4o9oSnV96d",
        "outputId": "9911c497-7b5b-4dc8-88cc-dea0fcc61028"
      },
      "source": [
        "df_all.head()"
      ],
      "id": "sX4o9oSnV96d",
      "execution_count": null,
      "outputs": [
        {
          "output_type": "execute_result",
          "data": {
            "text/html": [
              "<div>\n",
              "<style scoped>\n",
              "    .dataframe tbody tr th:only-of-type {\n",
              "        vertical-align: middle;\n",
              "    }\n",
              "\n",
              "    .dataframe tbody tr th {\n",
              "        vertical-align: top;\n",
              "    }\n",
              "\n",
              "    .dataframe thead th {\n",
              "        text-align: right;\n",
              "    }\n",
              "</style>\n",
              "<table border=\"1\" class=\"dataframe\">\n",
              "  <thead>\n",
              "    <tr style=\"text-align: right;\">\n",
              "      <th></th>\n",
              "      <th>shares</th>\n",
              "      <th>year</th>\n",
              "      <th>text</th>\n",
              "      <th>misinformation</th>\n",
              "    </tr>\n",
              "  </thead>\n",
              "  <tbody>\n",
              "    <tr>\n",
              "      <th>0</th>\n",
              "      <td>1</td>\n",
              "      <td>2018</td>\n",
              "      <td>o dia em que ex-guerrilheiro, militantes e des...</td>\n",
              "      <td>1</td>\n",
              "    </tr>\n",
              "    <tr>\n",
              "      <th>1</th>\n",
              "      <td>3</td>\n",
              "      <td>2018</td>\n",
              "      <td>o nível dos jornalistas do programa roda viva ...</td>\n",
              "      <td>1</td>\n",
              "    </tr>\n",
              "    <tr>\n",
              "      <th>2</th>\n",
              "      <td>2</td>\n",
              "      <td>2018</td>\n",
              "      <td>*atenção*\\n\\nprecisamos da ajuda de todos você...</td>\n",
              "      <td>0</td>\n",
              "    </tr>\n",
              "    <tr>\n",
              "      <th>3</th>\n",
              "      <td>5</td>\n",
              "      <td>2018</td>\n",
              "      <td>gestão do colombiano na capital, imagina ele n...</td>\n",
              "      <td>1</td>\n",
              "    </tr>\n",
              "    <tr>\n",
              "      <th>4</th>\n",
              "      <td>2</td>\n",
              "      <td>2018</td>\n",
              "      <td>🛑🛑🛑🛑🛑🛑\\ninterrompendo momentaneamente a conver...</td>\n",
              "      <td>1</td>\n",
              "    </tr>\n",
              "  </tbody>\n",
              "</table>\n",
              "</div>"
            ],
            "text/plain": [
              "   shares  ...  misinformation\n",
              "0       1  ...               1\n",
              "1       3  ...               1\n",
              "2       2  ...               0\n",
              "3       5  ...               1\n",
              "4       2  ...               1\n",
              "\n",
              "[5 rows x 4 columns]"
            ]
          },
          "metadata": {},
          "execution_count": 13
        }
      ]
    },
    {
      "cell_type": "markdown",
      "metadata": {
        "id": "eBBhZ-RDWA3W"
      },
      "source": [
        "### Separando treino, validação e teste"
      ],
      "id": "eBBhZ-RDWA3W"
    },
    {
      "cell_type": "code",
      "metadata": {
        "ExecuteTime": {
          "end_time": "2021-11-08T19:46:06.785688Z",
          "start_time": "2021-11-08T19:46:06.769675Z"
        },
        "id": "672abf84"
      },
      "source": [
        "from sklearn.model_selection import train_test_split"
      ],
      "id": "672abf84",
      "execution_count": null,
      "outputs": []
    },
    {
      "cell_type": "code",
      "metadata": {
        "id": "AuxYjIYjWIMo"
      },
      "source": [
        "df_train, df_test = train_test_split(df_all, test_size=0.2, random_state=42, stratify=df_all['misinformation'])\n",
        "df_train, df_val = train_test_split(df_train, test_size=0.2, random_state=42,  stratify=df_train['misinformation'])\n",
        "\n",
        "df_train.reset_index(drop=True,inplace=True)\n",
        "df_val.reset_index(drop=True,inplace=True)\n",
        "df_test.reset_index(drop=True,inplace=True)"
      ],
      "id": "AuxYjIYjWIMo",
      "execution_count": null,
      "outputs": []
    },
    {
      "cell_type": "code",
      "metadata": {
        "colab": {
          "base_uri": "https://localhost:8080/"
        },
        "id": "rYQWeaaaWgLT",
        "outputId": "bd924f49-a603-401f-8ae0-75329a5d7cbe"
      },
      "source": [
        "print_size_and_counts(df_train)"
      ],
      "id": "rYQWeaaaWgLT",
      "execution_count": null,
      "outputs": [
        {
          "output_type": "stream",
          "name": "stdout",
          "text": [
            "6287\n",
            "0    3590\n",
            "1    2697\n",
            "Name: misinformation, dtype: int64\n"
          ]
        }
      ]
    },
    {
      "cell_type": "code",
      "metadata": {
        "colab": {
          "base_uri": "https://localhost:8080/"
        },
        "id": "It2L-qLSXdcf",
        "outputId": "ee0c50a2-b928-41fb-e7cf-52d25f8a25ce"
      },
      "source": [
        "print_size_and_counts(df_val)"
      ],
      "id": "It2L-qLSXdcf",
      "execution_count": null,
      "outputs": [
        {
          "output_type": "stream",
          "name": "stdout",
          "text": [
            "1572\n",
            "0    898\n",
            "1    674\n",
            "Name: misinformation, dtype: int64\n"
          ]
        }
      ]
    },
    {
      "cell_type": "code",
      "metadata": {
        "colab": {
          "base_uri": "https://localhost:8080/"
        },
        "id": "whcsQ9ZHXgRy",
        "outputId": "2b8250ca-71a7-4818-bbf3-1ea55a2bd15f"
      },
      "source": [
        "print_size_and_counts(df_test)"
      ],
      "id": "whcsQ9ZHXgRy",
      "execution_count": null,
      "outputs": [
        {
          "output_type": "stream",
          "name": "stdout",
          "text": [
            "1965\n",
            "0    1122\n",
            "1     843\n",
            "Name: misinformation, dtype: int64\n"
          ]
        }
      ]
    },
    {
      "cell_type": "markdown",
      "metadata": {
        "id": "y5R31EDKXji1"
      },
      "source": [
        "## Preparando dados para algoritmo"
      ],
      "id": "y5R31EDKXji1"
    },
    {
      "cell_type": "markdown",
      "metadata": {
        "id": "gBU9dIdsjCAm"
      },
      "source": [
        "### Utilizando `CountVectorizer` para contar e codificar as palavras e textos"
      ],
      "id": "gBU9dIdsjCAm"
    },
    {
      "cell_type": "code",
      "metadata": {
        "ExecuteTime": {
          "end_time": "2021-11-08T19:51:31.224888Z",
          "start_time": "2021-11-08T19:51:31.216861Z"
        },
        "id": "74650ac2"
      },
      "source": [
        "from sklearn.feature_extraction.text import CountVectorizer"
      ],
      "id": "74650ac2",
      "execution_count": null,
      "outputs": []
    },
    {
      "cell_type": "code",
      "metadata": {
        "id": "8po2QA27X8Q1"
      },
      "source": [
        "vectorizer = CountVectorizer(min_df=5)"
      ],
      "id": "8po2QA27X8Q1",
      "execution_count": null,
      "outputs": []
    },
    {
      "cell_type": "code",
      "metadata": {
        "id": "QCdJH5uOXwZN"
      },
      "source": [
        "X_train = vectorizer.fit_transform(df_train['text'].values)\n",
        "X_train = X_train.toarray()\n",
        "X_val = vectorizer.transform(df_val['text'].values)\n",
        "X_val = X_val.toarray()\n",
        "\n",
        "y_train = df_train['misinformation'].values\n",
        "y_val = df_val['misinformation'].values"
      ],
      "id": "QCdJH5uOXwZN",
      "execution_count": null,
      "outputs": []
    },
    {
      "cell_type": "markdown",
      "metadata": {
        "id": "ZDzZICffjKos"
      },
      "source": [
        "### Exibindo alguns exemplos de palavras e textos"
      ],
      "id": "ZDzZICffjKos"
    },
    {
      "cell_type": "code",
      "metadata": {
        "colab": {
          "base_uri": "https://localhost:8080/"
        },
        "id": "fnFDeA99j-8j",
        "outputId": "39bc3ab3-5ed9-4065-9386-726176b186f1"
      },
      "source": [
        "X_train"
      ],
      "id": "fnFDeA99j-8j",
      "execution_count": null,
      "outputs": [
        {
          "output_type": "execute_result",
          "data": {
            "text/plain": [
              "array([[0, 0, 0, ..., 0, 0, 0],\n",
              "       [0, 0, 0, ..., 0, 0, 0],\n",
              "       [0, 0, 0, ..., 0, 0, 0],\n",
              "       ...,\n",
              "       [0, 0, 0, ..., 0, 0, 0],\n",
              "       [0, 0, 0, ..., 0, 0, 0],\n",
              "       [0, 0, 0, ..., 0, 0, 0]])"
            ]
          },
          "metadata": {},
          "execution_count": 22
        }
      ]
    },
    {
      "cell_type": "code",
      "metadata": {
        "colab": {
          "base_uri": "https://localhost:8080/"
        },
        "id": "FXJXovwxkCUj",
        "outputId": "2d156fa8-7510-409c-8824-49d6506a2dcd"
      },
      "source": [
        "X_train.shape"
      ],
      "id": "FXJXovwxkCUj",
      "execution_count": null,
      "outputs": [
        {
          "output_type": "execute_result",
          "data": {
            "text/plain": [
              "(6287, 11419)"
            ]
          },
          "metadata": {},
          "execution_count": 23
        }
      ]
    },
    {
      "cell_type": "code",
      "metadata": {
        "ExecuteTime": {
          "end_time": "2021-11-08T19:48:56.041384Z",
          "start_time": "2021-11-08T19:48:56.020315Z"
        },
        "id": "7122644a",
        "colab": {
          "base_uri": "https://localhost:8080/"
        },
        "outputId": "1b1e8925-37ed-4755-c0cd-c502b282c5d7"
      },
      "source": [
        "palavras = vectorizer.get_feature_names_out()\n",
        "palavras.shape"
      ],
      "id": "7122644a",
      "execution_count": null,
      "outputs": [
        {
          "output_type": "execute_result",
          "data": {
            "text/plain": [
              "(11419,)"
            ]
          },
          "metadata": {},
          "execution_count": 24
        }
      ]
    },
    {
      "cell_type": "code",
      "metadata": {
        "colab": {
          "base_uri": "https://localhost:8080/"
        },
        "id": "fQ4WTKDTkIuu",
        "outputId": "cc6bc6e4-ee03-4339-c60c-97a350e49290"
      },
      "source": [
        "np.random.seed(0)\n",
        "np.random.choice(palavras, 50)"
      ],
      "id": "fQ4WTKDTkIuu",
      "execution_count": null,
      "outputs": [
        {
          "output_type": "execute_result",
          "data": {
            "text/plain": [
              "array(['comprova', 'uc3uaveaivmcexbrgel7vvmw', 'saíram', 'curitiba',\n",
              "       'extremamente', 'realmente', 'organizacao', 'envio', 'igor',\n",
              "       'liminar', 'dem', 'acorda', 'coluna', 'talheres', 'carreira',\n",
              "       'octacampeão', 'considerada', 'sei', '91', 'vicentinho',\n",
              "       'interessante', 'majoritariamente', 'indevida', 'cap11', 'festa',\n",
              "       'extingue', 'orava', 'cabra', 'bloqueio', 'neste', 'classificadas',\n",
              "       'perguntamos', 'subjugar', 'aderir', 'adotadas', 'acertando',\n",
              "       'ctmfb64lpsy', 'pq', 'municipal', 'dantas', 'comunicado',\n",
              "       'ewentos', 'pretendem', 'levem', 'acordou', 'cebulski', 'período',\n",
              "       'vaga', 'violarem', 'aparecida'], dtype=object)"
            ]
          },
          "metadata": {},
          "execution_count": 25
        }
      ]
    },
    {
      "cell_type": "code",
      "metadata": {
        "colab": {
          "base_uri": "https://localhost:8080/"
        },
        "id": "5ojWvSjFknkF",
        "outputId": "a135cca0-6552-489f-b8da-8cf6bc3b1eec"
      },
      "source": [
        "palavras[X_train[0] > 0]"
      ],
      "id": "5ojWvSjFknkF",
      "execution_count": null,
      "outputs": [
        {
          "output_type": "execute_result",
          "data": {
            "text/plain": [
              "array(['050', '10', '17', '17000', 'adesivaço', 'anne', 'as', 'ato',\n",
              "       'belinelle', 'bloco', 'bolsonaro', 'buzina', 'colocar', 'de',\n",
              "       'dia', 'dos', 'eu', 'faixa', 'flávio', 'girassóis', 'hoje',\n",
              "       'horas', 'josimar', 'lucas', 'marcos', 'mobilização', 'na',\n",
              "       'nacional', 'praça', 'prol', 'rodolfo', 'rua', 'taquaralto', 'to',\n",
              "       'vou'], dtype=object)"
            ]
          },
          "metadata": {},
          "execution_count": 26
        }
      ]
    },
    {
      "cell_type": "code",
      "metadata": {
        "colab": {
          "base_uri": "https://localhost:8080/"
        },
        "id": "iiJmXAzdkyu2",
        "outputId": "0206f3e5-6a7b-4318-900e-4931a389c315"
      },
      "source": [
        "print(df_train.loc[0, 'text'])"
      ],
      "id": "iiJmXAzdkyu2",
      "execution_count": null,
      "outputs": [
        {
          "output_type": "stream",
          "name": "stdout",
          "text": [
            "hoje dia *17 as 17horas*\n",
            "\n",
            "*o dia nacional de mobilização prol bolsonaro*\n",
            "\n",
            "bloco na rua\n",
            "\n",
            "ato: colocar a faixa buzina na passarela de taquaralto na to 050\n",
            "\n",
            "eu vou!\n",
            "\n",
            "1. marcos\n",
            "2. lucas belinelle 17000\n",
            "3. rodolfo \n",
            "4.anne \n",
            "5.wilhamis\n",
            "6.\n",
            "7.\n",
            "8.\n",
            "9.\n",
            "10.\n",
            "\n",
            "adesivaço na praça dos girassóis dia 17 as 17 horas\n",
            "\n",
            "eu vou.\n",
            "\n",
            "1. josimar\n",
            "2. flávio \n",
            "3.\n",
            "4.\n",
            "5.\n",
            "6.\n",
            "7.\n",
            "8.\n",
            "9.\n",
            "10.\n"
          ]
        }
      ]
    },
    {
      "cell_type": "code",
      "metadata": {
        "ExecuteTime": {
          "end_time": "2021-11-08T19:21:08.870336Z",
          "start_time": "2021-11-08T19:21:08.810283Z"
        },
        "id": "60cbfd58",
        "colab": {
          "base_uri": "https://localhost:8080/"
        },
        "outputId": "7de69223-f35e-4e89-e767-0f2acb8d9559"
      },
      "source": [
        "w = 'uc3uaveaivmcexbrgel7vvmw'\n",
        "texts = [*filter(lambda x: w in x, df_train['text'])]\n",
        "print(*texts, sep=f'\\n\\n{\"=\" * 200}\\n\\n')"
      ],
      "id": "60cbfd58",
      "execution_count": null,
      "outputs": [
        {
          "output_type": "stream",
          "name": "stdout",
          "text": [
            "https://youtu.be/vg0ibqex238\n",
            "\n",
            "confira o vídeo 👆 referência dos apoiadores de bolsonaro no tocantins\n",
            "\n",
            "estadual: professor edison 1⃣7⃣7⃣0⃣0⃣\n",
            "\n",
            "realizamos no dia 21/09/2018 a útltima reunião dos bolsonaristas antes da eleição do dia 07/10. \n",
            "\n",
            "resoluções do grupo:\n",
            "\n",
            "1. postar os candidatos que passaram pelo crivo do grupo: farlei senador, patrícia federal, edisom estadual e lucas estadual.\n",
            "\n",
            "2. trabalhar os grupos de cada cidade em especial das 22 maiores. e observar e pedir ajuda as lideranças que podem criar novos grupos em todas as cidades do tocantins.\n",
            "\n",
            "3. enviar os links desses grupos para que as pessoas possam migrar para os grupos das cidades onde o trabalho será intensificado com foco.\n",
            "\n",
            "4. o foco estratégico é compartilhar a página de referência no tocantins: direita palmas e amor pelo brasil. somos 50 bolsonaristas em palmas se todos compartilherem chegaremos aos potenciais eleitores.\n",
            "\n",
            "5. foco nas postagem no whastapp evitar envios redundantes sem foco eleitoral. queremos ganhar queremos voto, precisamos massificar o nome e número dos candidatos da chapa do bolsonaro.\n",
            "\n",
            "6. postar os vídeos do farlei, patrícia, edisom e lucas nos nossos grupos e redes sociais.\n",
            "\n",
            "vamos ajudar o capitão! conte conosco!\n",
            "\n",
            "\n",
            "✨✨  marcha para o interior do tocantins ✨✨\n",
            "\n",
            "projeto: bolsonaro 2018, vencer no 1° turno no tocantins\n",
            "\n",
            "20 cidades onde bolsonaro precisa vencer no 1° turno no tocantins\n",
            "\n",
            "🤷♀ como posso ajudar?\n",
            "\n",
            "👉 resposta: você, eu e todos nós podemos ajudar a crescer os grupos direcionando os contatos para as respectivas localidade de suas residências, onde você pode ajudar a organizar os apoiadores de jair bolsonaro, em todos os municípios do tocantins. pela ordem vamos começar nos maiores colégios eleitorais, ok? \n",
            "👉 note: estamos na reta final, agora o mais importante é chegar ao maior número de potenciais eleitores do mito. \n",
            "👉 conteúdo: nossa páginas do facebook lhe darão o conteúdo de apoio. a ordem é crescer os grupos e eliminar os cabos eleitorais dos adversários do projeto bolsonaro 2018.\n",
            "\n",
            "1. palmas\n",
            "\n",
            "✅ https://chat.whatsapp.com/2idcufejoeqba0k5ox1cwg\n",
            "\n",
            "                 1.1 luzimangues\n",
            "\n",
            "                 ✅ https://chat.whatsapp.com/6mcy9s9vcnvax3jlzxyzja\n",
            "\n",
            "                 1.2 taquaralto.     \n",
            "\n",
            "                  ✅ https://chat.whatsapp.com/apppzatmz5v5wh00awozyo\n",
            "\n",
            "                 1.3 aureny iii\n",
            "\n",
            "                 ✅ https://chat.whatsapp.com/4ulz3dtijg8gdvjvddr7al\n",
            "     \n",
            "                1.4 buritirana \n",
            "\n",
            "                ✅https://chat.whatsapp.com/1kj55lnib0pja0xg7yl1dn\n",
            "\n",
            "2. araguaína\n",
            "\n",
            "✅ https://chat.whatsapp.com/5ekvlbo4o1d1rccprajb2w\n",
            "\n",
            "3. gurupi\n",
            "\n",
            "✅ https://chat.whatsapp.com/hn6hyxjhfmd4gfwynb45te\n",
            "\n",
            "4. porto nacional \n",
            "\n",
            "✅ https://chat.whatsapp.com/7glwnhbwz5ofuvmqyphehq\n",
            "\n",
            "5. paraíso do tocantins\n",
            "\n",
            "✅ https://chat.whatsapp.com/abojvsdkjax1jmgtmttxcq\n",
            "\n",
            "6. colinas do tocantins\n",
            "\n",
            "✅ https://chat.whatsapp.com/3pjh2kiuei853gk6rszlrk\n",
            "\n",
            "7. araguatins\n",
            "\n",
            "✅ https://chat.whatsapp.com/1dqhsegrqbl7oleqtxwk97\n",
            "\n",
            "8. guaraí\n",
            "\n",
            "✅ https://chat.whatsapp.com/8leiesmosxr6papw3datha\n",
            "\n",
            "9. tocantinópolis\n",
            "\n",
            "✅ https://chat.whatsapp.com/3lgbraaczhz8gkziszx5iy\n",
            "\n",
            "10. miracema do tocantins\n",
            "\n",
            "✅ https://chat.whatsapp.com/16vkmkhxic7govcucwnaqn\n",
            "\n",
            "11. formoso do araguaia\n",
            "\n",
            "✅ https://chat.whatsapp.com/ah71fdx9rlfdsdrcvzjljx\n",
            "\n",
            "12. dianópolis \n",
            "\n",
            "✅ https://chat.whatsapp.com/4tmfsoen8kj62kkz0fjqzq\n",
            "\n",
            "13. augustinópolis \n",
            "\n",
            "✅ https://chat.whatsapp.com/0p3ele77vbnb1n57fvszdb\n",
            "\n",
            "14. taguatinga\n",
            "\n",
            "✅ https://chat.whatsapp.com/8smhnwthw1d3uwawjh7zt5\n",
            "\n",
            "15. miranorte \n",
            "\n",
            "✅ https://chat.whatsapp.com/5wrwgkacx3iddjzlypyosj\n",
            "\n",
            "16. pedro afonso\n",
            "\n",
            "✅ https://chat.whatsapp.com/2dmefxwo4hqbd6tlgvdc3a\n",
            "\n",
            "17. xambioá\n",
            "\n",
            "✅ https://chat.whatsapp.com/2hjtprgsbef0a4lxwc68aj\n",
            "\n",
            "18. axixá do tocantins\n",
            "\n",
            "✅ https://chat.whatsapp.com/igssgurut9hb6dmvfjorrx\n",
            "\n",
            "19. lagoa da confusão\n",
            "\n",
            "✅ https://chat.whatsapp.com/jmwjainsje8ej2abdb0sjq\n",
            "\n",
            "20. arraias\n",
            "\n",
            "✅ https://chat.whatsapp.com/8uc37bhilal2cdbdui4dqq\n",
            "\n",
            "estatuto\n",
            "\n",
            "1. objetivo único apoio a bolsonaro.\n",
            "\n",
            "2. organizar nova etapa de inauguração de grupo.\n",
            "\n",
            "3. orientar as iniciativas nas demais redes sociais como: facebook, you tube...\n",
            "\n",
            "4. estabelecer meta\n",
            "\n",
            "5. monitorar\n",
            "\n",
            "6. avaliar\n",
            "\n",
            "7. buscar informação precisa e dizer a verdade\n",
            "\n",
            "8. elogiar, urbanidade\n",
            "\n",
            "9. zelar pela integridade dos grupos \n",
            "\n",
            "10. proliferar \n",
            "\n",
            "eis o estatuto da rede bolsonarista - to\n",
            "\n",
            "🔰 *grupo whatsapp central* 🔰: https://chat.whatsapp.com/kgdkfevx2izgdbome188fj\n",
            "\n",
            "➡ facebook: https://www.facebook.com/direitapalmas\n",
            "\n",
            "➡ blog: https://bolsonarista.wordpress.com\n",
            "\n",
            "➡ canal youtube: https://www.youtube.com/channel/uc3uaveaivmcexbrgel7vvmw\n",
            "\n",
            "loja camisetas 😎: \n",
            "\n",
            "✅ https://chat.whatsapp.com/l3i1537rnklfoyyurccm2z\n",
            "\n",
            "presidente: bolsonaro 1⃣7⃣\n",
            "senador: farlei 1⃣7⃣0⃣\n",
            "federal: patrícia 1⃣7⃣7⃣7⃣\n",
            "estadual: professor edison 1⃣7⃣7⃣0⃣0⃣\n",
            "\n",
            "========================================================================================================================================================================================================\n",
            "\n",
            "quarteto fantástico quem são? confira: https://youtu.be/5anmku1jizu\n",
            "\n",
            "✨✨  marcha para o interior do tocantins ✨✨\n",
            "\n",
            "projeto: bolsonaro 2018, vencer no 1° turno no tocantins\n",
            "\n",
            "20 cidades onde bolsonaro precisa vencer no 1° turno no tocantins\n",
            "\n",
            "🤷♀ como posso ajudar?\n",
            "\n",
            "👉 resposta: você, eu e todos nós podemos ajudar a crescer os grupos direcionando os contatos para as respectivas localidade de suas residências, onde você pode ajudar a organizar os apoiadores de jair bolsonaro, em todos os municípios do tocantins. pela ordem vamos começar nos maiores colégios eleitorais, ok? \n",
            "👉 note: estamos na reta final, agora o mais importante é chegar ao maior número de potenciais eleitores do mito. \n",
            "👉 conteúdo: nossa páginas do facebook lhe darão o conteúdo de apoio. a ordem é crescer os grupos e eliminar os cabos eleitorais dos adversários do projeto bolsonaro 2018.\n",
            "\n",
            "1. palmas\n",
            "\n",
            "✅ https://chat.whatsapp.com/2idcufejoeqba0k5ox1cwg\n",
            "\n",
            "                 1.1 luzimangues\n",
            "\n",
            "                 ✅ https://chat.whatsapp.com/6mcy9s9vcnvax3jlzxyzja\n",
            "\n",
            "                 1.2 taquaralto.     \n",
            "\n",
            "                  ✅ https://chat.whatsapp.com/apppzatmz5v5wh00awozyo\n",
            "\n",
            "                 1.3 aureny iii\n",
            "\n",
            "                 ✅ https://chat.whatsapp.com/4ulz3dtijg8gdvjvddr7al\n",
            "\n",
            "2. araguaína\n",
            "\n",
            "✅ https://chat.whatsapp.com/5ekvlbo4o1d1rccprajb2w\n",
            "\n",
            "3. gurupi\n",
            "\n",
            "✅ https://chat.whatsapp.com/hn6hyxjhfmd4gfwynb45te\n",
            "\n",
            "4. porto nacional \n",
            "\n",
            "✅ https://chat.whatsapp.com/7glwnhbwz5ofuvmqyphehq\n",
            "\n",
            "5. paraíso do tocantins\n",
            "\n",
            "✅ https://chat.whatsapp.com/abojvsdkjax1jmgtmttxcq\n",
            "\n",
            "6. colinas do tocantins\n",
            "\n",
            "✅ https://chat.whatsapp.com/3pjh2kiuei853gk6rszlrk\n",
            "\n",
            "7. araguatins\n",
            "\n",
            "✅ https://chat.whatsapp.com/1dqhsegrqbl7oleqtxwk97\n",
            "\n",
            "8. guaraí\n",
            "\n",
            "✅ https://chat.whatsapp.com/8leiesmosxr6papw3datha\n",
            "\n",
            "9. tocantinópolis\n",
            "\n",
            "✅ https://chat.whatsapp.com/3lgbraaczhz8gkziszx5iy\n",
            "\n",
            "10. miracema do tocantins\n",
            "\n",
            "✅ https://chat.whatsapp.com/16vkmkhxic7govcucwnaqn\n",
            "\n",
            "11. formoso do araguaia\n",
            "\n",
            "✅ https://chat.whatsapp.com/ah71fdx9rlfdsdrcvzjljx\n",
            "\n",
            "12. dianópolis \n",
            "\n",
            "✅ https://chat.whatsapp.com/4tmfsoen8kj62kkz0fjqzq\n",
            "\n",
            "13. augustinópolis \n",
            "\n",
            "✅ https://chat.whatsapp.com/0p3ele77vbnb1n57fvszdb\n",
            "\n",
            "14. taguatinga\n",
            "\n",
            "✅ https://chat.whatsapp.com/8smhnwthw1d3uwawjh7zt5\n",
            "\n",
            "15. miranorte \n",
            "\n",
            "✅ https://chat.whatsapp.com/5wrwgkacx3iddjzlypyosj\n",
            "\n",
            "16. pedro afonso\n",
            "\n",
            "✅ https://chat.whatsapp.com/2dmefxwo4hqbd6tlgvdc3a\n",
            "\n",
            "17. xambioá\n",
            "\n",
            "✅ https://chat.whatsapp.com/2hjtprgsbef0a4lxwc68aj\n",
            "\n",
            "18. axixá do tocantins\n",
            "\n",
            "✅ https://chat.whatsapp.com/igssgurut9hb6dmvfjorrx\n",
            "\n",
            "19. lagoa da confusão\n",
            "\n",
            "✅ https://chat.whatsapp.com/jmwjainsje8ej2abdb0sjq\n",
            "\n",
            "20. arraias\n",
            "\n",
            "✅ https://chat.whatsapp.com/8uc37bhilal2cdbdui4dqq\n",
            "\n",
            "estatuto\n",
            "\n",
            "1. objetivo único apoio a bolsonaro.\n",
            "\n",
            "2. organizar nova etapa de inauguração de grupo.\n",
            "\n",
            "3. orientar as iniciativas nas demais redes sociais como: facebook, you tube...\n",
            "\n",
            "4. estabelecer meta\n",
            "\n",
            "5. monitorar\n",
            "\n",
            "6. avaliar\n",
            "\n",
            "7. buscar informação precisa e dizer a verdade\n",
            "\n",
            "8. elogiar, urbanidade\n",
            "\n",
            "9. zelar pela integridade dos grupos \n",
            "\n",
            "10. proliferar \n",
            "\n",
            "eis o estatuto da rede bolsonarista - to\n",
            "\n",
            "🔰 *grupo whatsapp central* 🔰: https://chat.whatsapp.com/kgdkfevx2izgdbome188fj\n",
            "\n",
            "➡ facebook: https://www.facebook.com/direitapalmas\n",
            "\n",
            "➡ blog: https://bolsonarista.wordpress.com\n",
            "\n",
            "➡ canal youtube: https://www.youtube.com/channel/uc3uaveaivmcexbrgel7vvmw\n",
            "\n",
            "loja camisetas 😎: \n",
            "\n",
            "✅ https://chat.whatsapp.com/l3i1537rnklfoyyurccm2z\n",
            "\n",
            "presidente: bolsonaro 1⃣7⃣\n",
            "senador: farlei 1⃣7⃣0⃣\n",
            "federal: patrícia 1⃣7⃣7⃣7⃣\n",
            "estadual: professor edison 1⃣7⃣7⃣0⃣0⃣\n",
            "\n",
            "========================================================================================================================================================================================================\n",
            "\n",
            "✨✨  marcha para o interior do tocantins ✨✨\n",
            "\n",
            "projeto: bolsonaro 2018, vencer no 1° turno no tocantins\n",
            "\n",
            "20 cidades onde bolsonaro precisa vencer no 1° turno no tocantins\n",
            "\n",
            "🤷♀ como posso ajudar?\n",
            "\n",
            "👉 resposta: você, eu e todos nós podemos ajudar a crescer os grupos direcionando os contatos para as respectivas localidade de suas residências, onde você pode ajudar a organizar os apoiadores de jair bolsonaro, em todos os municípios do tocantins. pela ordem vamos começar nos maiores colégios eleitorais, ok? \n",
            "👉 note: estamos na reta final, agora o mais importante é chegar ao maior número de potenciais eleitores do mito. \n",
            "👉 conteúdo: nossa páginas do facebook lhe darão o conteúdo de apoio. a ordem é crescer os grupos e eliminar os cabos eleitorais dos adversários do projeto bolsonaro 2018.\n",
            "\n",
            "1. palmas\n",
            "\n",
            "✅ https://chat.whatsapp.com/2idcufejoeqba0k5ox1cwg\n",
            "\n",
            "                 1.1 luzimangues\n",
            "\n",
            "                 ✅ https://chat.whatsapp.com/6mcy9s9vcnvax3jlzxyzja\n",
            "\n",
            "2. araguaína\n",
            "\n",
            "✅ https://chat.whatsapp.com/5ekvlbo4o1d1rccprajb2w\n",
            "\n",
            "3. gurupi\n",
            "\n",
            "✅ https://chat.whatsapp.com/hn6hyxjhfmd4gfwynb45te\n",
            "\n",
            "4. porto nacional \n",
            "\n",
            "✅ https://chat.whatsapp.com/7glwnhbwz5ofuvmqyphehq\n",
            "\n",
            "5. paraíso do tocantins\n",
            "\n",
            "✅ https://chat.whatsapp.com/abojvsdkjax1jmgtmttxcq\n",
            "\n",
            "6. colinas do tocantins\n",
            "\n",
            "✅ https://chat.whatsapp.com/3pjh2kiuei853gk6rszlrk\n",
            "\n",
            "7. araguatins\n",
            "\n",
            "✅ https://chat.whatsapp.com/1dqhsegrqbl7oleqtxwk97\n",
            "\n",
            "8. guaraí\n",
            "\n",
            "✅ https://chat.whatsapp.com/8leiesmosxr6papw3datha\n",
            "\n",
            "9. tocantinópolis\n",
            "\n",
            "✅ https://chat.whatsapp.com/3lgbraaczhz8gkziszx5iy\n",
            "\n",
            "10. miracema do tocantins\n",
            "\n",
            "✅ https://chat.whatsapp.com/16vkmkhxic7govcucwnaqn\n",
            "\n",
            "11. formoso do araguaia\n",
            "\n",
            "✅ https://chat.whatsapp.com/ah71fdx9rlfdsdrcvzjljx\n",
            "\n",
            "12. dianópolis (não tem grupo)\n",
            "\n",
            "✅\n",
            "\n",
            "13. augustinópolis \n",
            "\n",
            "✅\n",
            "\n",
            "14. taguatinga\n",
            "\n",
            "✅\n",
            "\n",
            "15. miranorte \n",
            "\n",
            "✅\n",
            "\n",
            "16. pedro afonso\n",
            "\n",
            "✅ https://chat.whatsapp.com/2dmefxwo4hqbd6tlgvdc3a\n",
            "\n",
            "17. xambioá\n",
            "\n",
            "✅ \n",
            "\n",
            "18. axixá do tocantins\n",
            "\n",
            "✅ https://chat.whatsapp.com/igssgurut9hb6dmvfjorrx\n",
            "\n",
            "19. lagoa da confusão\n",
            "\n",
            "✅ https://chat.whatsapp.com/jmwjainsje8ej2abdb0sjq\n",
            "\n",
            "20. arraias\n",
            "\n",
            "✅ \n",
            "\n",
            "estatuto\n",
            "\n",
            "1. objetivo único apoio a bolsonaro.\n",
            "\n",
            "2. organizar nova etapa de inauguração de grupo.\n",
            "\n",
            "3. orientar as iniciativas nas demais redes sociais como: facebook, you tube...\n",
            "\n",
            "4. estabelecer meta\n",
            "\n",
            "5. monitorar\n",
            "\n",
            "6. avaliar\n",
            "\n",
            "7. buscar informação precisa e dizer a verdade\n",
            "\n",
            "8. elogiar, urbanidade\n",
            "\n",
            "9. zelar pela integridade dos grupos \n",
            "\n",
            "10. proliferar \n",
            "\n",
            "eis o estatuto da rede bolsonarista - to\n",
            "\n",
            "🔰 *grupo whatsapp central* 🔰: https://chat.whatsapp.com/kgdkfevx2izgdbome188fj\n",
            "\n",
            "➡ facebook: https://www.facebook.com/direitapalmas\n",
            "\n",
            "➡ blog: https://bolsonarista.wordpress.com\n",
            "\n",
            "➡ canal youtube: https://www.youtube.com/channel/uc3uaveaivmcexbrgel7vvmw\n",
            "\n",
            "loja camisetas 😎: \n",
            "\n",
            "✅ https://chat.whatsapp.com/l3i1537rnklfoyyurccm2z\n",
            "\n",
            "presidente: bolsonaro 1⃣7⃣\n",
            "senador: farlei 1⃣7⃣\n",
            "federal: patrícia 1⃣7⃣\n",
            "estadual: professor edison 1⃣7⃣\n",
            "\n",
            "========================================================================================================================================================================================================\n",
            "\n",
            "https://youtu.be/x_prbqhcohs\n",
            "\n",
            "estadual: professor edison 1⃣7⃣7⃣0⃣0⃣\n",
            "\n",
            "realizamos no dia 21/09/2018 a útltima reunião dos bolsonaristas antes da eleição do dia 07/10. \n",
            "\n",
            "resoluções do grupo:\n",
            "\n",
            "1. postar os candidatos que passaram pelo crivo do grupo: farlei senador, patrícia federal, edisom estadual e lucas estadual.\n",
            "\n",
            "2. trabalhar os grupos de cada cidade em especial das 22 maiores. e observar e pedir ajuda as lideranças que podem criar novos grupos em todas as cidades do tocantins.\n",
            "\n",
            "3. enviar os links desses grupos para que as pessoas possam migrar para os grupos das cidades onde o trabalho será intensificado com foco.\n",
            "\n",
            "4. o foco estratégico é compartilhar a página de referência no tocantins: direita palmas e amor pelo brasil. somos 50 bolsonaristas em palmas se todos compartilherem chegaremos aos potenciais eleitores.\n",
            "\n",
            "5. foco nas postagem no whastapp evitar envios redundantes sem foco eleitoral. queremos ganhar queremos voto, precisamos massificar o nome e número dos candidatos da chapa do bolsonaro.\n",
            "\n",
            "6. postar os vídeos do farlei, patrícia, edisom e lucas nos nossos grupos e redes sociais.\n",
            "\n",
            "vamos ajudar o capitão! conte conosco!\n",
            "\n",
            "\n",
            "✨✨  marcha para o interior do tocantins ✨✨\n",
            "\n",
            "projeto: bolsonaro 2018, vencer no 1° turno no tocantins\n",
            "\n",
            "20 cidades onde bolsonaro precisa vencer no 1° turno no tocantins\n",
            "\n",
            "🤷♀ como posso ajudar?\n",
            "\n",
            "👉 resposta: você, eu e todos nós podemos ajudar a crescer os grupos direcionando os contatos para as respectivas localidade de suas residências, onde você pode ajudar a organizar os apoiadores de jair bolsonaro, em todos os municípios do tocantins. pela ordem vamos começar nos maiores colégios eleitorais, ok? \n",
            "👉 note: estamos na reta final, agora o mais importante é chegar ao maior número de potenciais eleitores do mito. \n",
            "👉 conteúdo: nossa páginas do facebook lhe darão o conteúdo de apoio. a ordem é crescer os grupos e eliminar os cabos eleitorais dos adversários do projeto bolsonaro 2018.\n",
            "\n",
            "1. palmas\n",
            "\n",
            "✅ https://chat.whatsapp.com/2idcufejoeqba0k5ox1cwg\n",
            "\n",
            "                 1.1 luzimangues\n",
            "\n",
            "                 ✅ https://chat.whatsapp.com/6mcy9s9vcnvax3jlzxyzja\n",
            "\n",
            "                 1.2 taquaralto.     \n",
            "\n",
            "                  ✅ https://chat.whatsapp.com/apppzatmz5v5wh00awozyo\n",
            "\n",
            "                 1.3 aureny iii\n",
            "\n",
            "                 ✅ https://chat.whatsapp.com/4ulz3dtijg8gdvjvddr7al\n",
            "\n",
            "2. araguaína\n",
            "\n",
            "✅ https://chat.whatsapp.com/5ekvlbo4o1d1rccprajb2w\n",
            "\n",
            "3. gurupi\n",
            "\n",
            "✅ https://chat.whatsapp.com/hn6hyxjhfmd4gfwynb45te\n",
            "\n",
            "4. porto nacional \n",
            "\n",
            "✅ https://chat.whatsapp.com/7glwnhbwz5ofuvmqyphehq\n",
            "\n",
            "5. paraíso do tocantins\n",
            "\n",
            "✅ https://chat.whatsapp.com/abojvsdkjax1jmgtmttxcq\n",
            "\n",
            "6. colinas do tocantins\n",
            "\n",
            "✅ https://chat.whatsapp.com/3pjh2kiuei853gk6rszlrk\n",
            "\n",
            "7. araguatins\n",
            "\n",
            "✅ https://chat.whatsapp.com/1dqhsegrqbl7oleqtxwk97\n",
            "\n",
            "8. guaraí\n",
            "\n",
            "✅ https://chat.whatsapp.com/8leiesmosxr6papw3datha\n",
            "\n",
            "9. tocantinópolis\n",
            "\n",
            "✅ https://chat.whatsapp.com/3lgbraaczhz8gkziszx5iy\n",
            "\n",
            "10. miracema do tocantins\n",
            "\n",
            "✅ https://chat.whatsapp.com/16vkmkhxic7govcucwnaqn\n",
            "\n",
            "11. formoso do araguaia\n",
            "\n",
            "✅ https://chat.whatsapp.com/ah71fdx9rlfdsdrcvzjljx\n",
            "\n",
            "12. dianópolis \n",
            "\n",
            "✅ https://chat.whatsapp.com/4tmfsoen8kj62kkz0fjqzq\n",
            "\n",
            "13. augustinópolis \n",
            "\n",
            "✅ https://chat.whatsapp.com/0p3ele77vbnb1n57fvszdb\n",
            "\n",
            "14. taguatinga\n",
            "\n",
            "✅ https://chat.whatsapp.com/8smhnwthw1d3uwawjh7zt5\n",
            "\n",
            "15. miranorte \n",
            "\n",
            "✅ https://chat.whatsapp.com/5wrwgkacx3iddjzlypyosj\n",
            "\n",
            "16. pedro afonso\n",
            "\n",
            "✅ https://chat.whatsapp.com/2dmefxwo4hqbd6tlgvdc3a\n",
            "\n",
            "17. xambioá\n",
            "\n",
            "✅ https://chat.whatsapp.com/2hjtprgsbef0a4lxwc68aj\n",
            "\n",
            "18. axixá do tocantins\n",
            "\n",
            "✅ https://chat.whatsapp.com/igssgurut9hb6dmvfjorrx\n",
            "\n",
            "19. lagoa da confusão\n",
            "\n",
            "✅ https://chat.whatsapp.com/jmwjainsje8ej2abdb0sjq\n",
            "\n",
            "20. arraias\n",
            "\n",
            "✅ https://chat.whatsapp.com/8uc37bhilal2cdbdui4dqq\n",
            "\n",
            "estatuto\n",
            "\n",
            "1. objetivo único apoio a bolsonaro.\n",
            "\n",
            "2. organizar nova etapa de inauguração de grupo.\n",
            "\n",
            "3. orientar as iniciativas nas demais redes sociais como: facebook, you tube...\n",
            "\n",
            "4. estabelecer meta\n",
            "\n",
            "5. monitorar\n",
            "\n",
            "6. avaliar\n",
            "\n",
            "7. buscar informação precisa e dizer a verdade\n",
            "\n",
            "8. elogiar, urbanidade\n",
            "\n",
            "9. zelar pela integridade dos grupos \n",
            "\n",
            "10. proliferar \n",
            "\n",
            "eis o estatuto da rede bolsonarista - to\n",
            "\n",
            "🔰 *grupo whatsapp central* 🔰: https://chat.whatsapp.com/kgdkfevx2izgdbome188fj\n",
            "\n",
            "➡ facebook: https://www.facebook.com/direitapalmas\n",
            "\n",
            "➡ blog: https://bolsonarista.wordpress.com\n",
            "\n",
            "➡ canal youtube: https://www.youtube.com/channel/uc3uaveaivmcexbrgel7vvmw\n",
            "\n",
            "loja camisetas 😎: \n",
            "\n",
            "✅ https://chat.whatsapp.com/l3i1537rnklfoyyurccm2z\n",
            "\n",
            "presidente: bolsonaro 1⃣7⃣\n",
            "senador: farlei 1⃣7⃣0⃣\n",
            "federal: patrícia 1⃣7⃣7⃣7⃣\n",
            "estadual: professor edison 1⃣7⃣7⃣0⃣0⃣\n",
            "\n",
            "========================================================================================================================================================================================================\n",
            "\n",
            "https://youtu.be/dm8zxngdbb8\n",
            "\n",
            "carreata da vitória do último dia 29 👆\n",
            "\n",
            "presidente: bolsonaro 1⃣7⃣\n",
            "senador: farlei mayer \n",
            "1⃣7⃣0⃣\n",
            "federal: patrícia fleischer \n",
            "1⃣7⃣7⃣7⃣\n",
            "estadual: prof. edisom alves \n",
            "1⃣7⃣7⃣0⃣0⃣\n",
            "\n",
            "é no 1° turno! ✨✨✨✨✨\n",
            "\n",
            "                         reta final \n",
            "\n",
            "\n",
            "✨✨  marcha para o interior do tocantins ✨✨\n",
            "\n",
            "👀 veja se sua cidade possui grupo pró-bolsonaro, abaixo 38 cidades 💯% capitão! \n",
            "\n",
            "1. palmas\n",
            "\n",
            "✅https://chat.whatsapp.com/2idcufejoeqba0k5ox1cwg\n",
            "\n",
            "                 1.1 luzimangues\n",
            "\n",
            "                 ✅ https://chat.whatsapp.com/6mcy9s9vcnvax3jlzxyzja\n",
            "\n",
            "                 1.2 taquaralto.     \n",
            "\n",
            "                  ✅ https://chat.whatsapp.com/apppzatmz5v5wh00awozyo\n",
            "\n",
            "                 1.3 aureny iii\n",
            "\n",
            "                 ✅ https://chat.whatsapp.com/4ulz3dtijg8gdvjvddr7al\n",
            "     \n",
            "                1.4 buritirana \n",
            "\n",
            "                ✅https://chat.whatsapp.com/1kj55lnib0pja0xg7yl1dn\n",
            "\n",
            "               1.5 vila união (arnos)\n",
            "\n",
            "               ✅https://chat.whatsapp.com/hngaw0hllfpefpbnp8ak40\n",
            "\n",
            "                1.6 taquari\n",
            "\n",
            "                 ✅https://chat.whatsapp.com/56lvsx6bta02iylmeth14p\n",
            "\n",
            "                  1.7 feira da 304 sul\n",
            "         \n",
            "                   ✅https://chat.whatsapp.com/gapm2ptuqka68qjujsfoqk\n",
            "\n",
            "2. araguaína\n",
            "\n",
            "✅https://chat.whatsapp.com/5ekvlbo4o1d1rccprajb2w\n",
            "\n",
            "3. gurupi\n",
            "\n",
            "✅https://chat.whatsapp.com/hn6hyxjhfmd4gfwynb45te\n",
            "\n",
            "4. porto nacional \n",
            "\n",
            "✅https://chat.whatsapp.com/7glwnhbwz5ofuvmqyphehq\n",
            "\n",
            "5. paraíso do tocantins\n",
            "\n",
            "✅https://chat.whatsapp.com/abojvsdkjax1jmgtmttxcq\n",
            "\n",
            "6. colinas do tocantins\n",
            "\n",
            "✅https://chat.whatsapp.com/abojvsdkjax1jmgtmttxcq\n",
            "\n",
            "7. araguatins\n",
            "\n",
            "✅https://chat.whatsapp.com/3pjh2kiuei853gk6rszlrk \n",
            "\n",
            "8. guaraí\n",
            "\n",
            "✅https://chat.whatsapp.com/8leiesmosxr6papw3datha\n",
            "\n",
            "9. tocantinópolis\n",
            "\n",
            "✅https://chat.whatsapp.com/3lgbraaczhz8gkziszx5iy\n",
            "\n",
            "10. miracema do tocantins\n",
            "\n",
            "✅https://chat.whatsapp.com/16vkmkhxic7govcucwnaqn\n",
            "\n",
            "11. formoso do araguaia\n",
            "\n",
            "✅https://chat.whatsapp.com/ah71fdx9rlfdsdrcvzjljx\n",
            "\n",
            "12. dianópolis \n",
            "\n",
            "✅https://chat.whatsapp.com/4tmfsoen8kj62kkz0fjqzq\n",
            "\n",
            "13. augustinópolis \n",
            "\n",
            "✅https://chat.whatsapp.com/0p3ele77vbnb1n57fvszdb\n",
            "\n",
            "14. taguatinga\n",
            "\n",
            "✅https://chat.whatsapp.com/9mejtmc45nw6tcpsmojga4\n",
            "\n",
            "15. miranorte \n",
            "\n",
            "✅https://chat.whatsapp.com/5wrwgkacx3iddjzlypyosj\n",
            "\n",
            "16. pedro afonso\n",
            "\n",
            "✅https://chat.whatsapp.com/2dmefxwo4hqbd6tlgvdc3a\n",
            "\n",
            "17. xambioá\n",
            "\n",
            "✅https://chat.whatsapp.com/cppugyjzlcvjbtyl4x8xpq\n",
            "\n",
            "18. axixá do tocantins\n",
            "\n",
            "✅https://chat.whatsapp.com/igssgurut9hb6dmvfjorrx\n",
            "\n",
            "19. lagoa da confusão\n",
            "\n",
            "✅https://chat.whatsapp.com/jmwjainsje8ej2abdb0sjq\n",
            "\n",
            "20. arraias\n",
            "\n",
            "✅https://chat.whatsapp.com/8uc37bhilal2cdbdui4dqq\n",
            "\n",
            "21. praia norte\n",
            "\n",
            "✅https://chat.whatsapp.com/1fayk5h9wghlhg88ejujcg\n",
            "\n",
            "22. goiatins\n",
            "\n",
            "✅https://chat.whatsapp.com/bthktncrglkgasocq68ome\n",
            "\n",
            "23. centenário\n",
            "\n",
            "✅https://chat.whatsapp.com/79cnno6zr2b2le9xvayzrb\n",
            "\n",
            "24. são bento do tocantins\n",
            "\n",
            "✅https://chat.whatsapp.com/agvglqzw2nvjdithtrsycx\n",
            "\n",
            "25. ananás\n",
            "\n",
            "✅https://chat.whatsapp.com/ihevesgv9pless1wwmbjee\n",
            "\n",
            "26. lagoa do tocantins\n",
            "\n",
            "✅https://chat.whatsapp.com/2bzndpchdx1bnnttal2mb5\n",
            "\n",
            "27. aliança\n",
            "\n",
            "✅https://chat.whatsapp.com/j54kzacg3ml6hbddwsfiam\n",
            "\n",
            "28. guaraí\n",
            "\n",
            "✅https://chat.whatsapp.com/8leiesmosxr6papw3datha\n",
            "\n",
            "29. novo acordo\n",
            "\n",
            "✅https://chat.whatsapp.com/1o6ukt8ktat2j2iwlke5sz\n",
            "\n",
            "30. pequizeiro\n",
            "\n",
            "✅https://chat.whatsapp.com/br7ny0lzbwg6ccji6tchmq\n",
            "\n",
            "31. colinas\n",
            "\n",
            "✅https://chat.whatsapp.com/abojvsdkjax1jmgtmttxcq\n",
            "\n",
            "32. bernardo sayão\n",
            "\n",
            "✅https://chat.whatsapp.com/5fa205arurjfnumwgi9sxb\n",
            "\n",
            "33. formoso do araguaia\n",
            "\n",
            "✅https://chat.whatsapp.com/ah71fdx9rlfdsdrcvzjljx\n",
            "\n",
            "34. axixá\n",
            "\n",
            "✅https://chat.whatsapp.com/igssgurut9hb6dmvfjorrx\n",
            "\n",
            "35. pium\n",
            "\n",
            "✅https://chat.whatsapp.com/kike6tsfetakhat2lalfku\n",
            "\n",
            "36. talismã\n",
            "\n",
            "✅https://chat.whatsapp.com/kp10rey7932ddkqi8bocgb\n",
            "\n",
            "37. santa rosa\n",
            "\n",
            "✅https://chat.whatsapp.com/1ljdiquj4mhhixs2hcd4ko\n",
            "\n",
            "38. marianópolis\n",
            "\n",
            "✅https://chat.whatsapp.com/ikbwki0qtm9afcicgtfmyo\n",
            "\n",
            "39. sandolândia\n",
            "\n",
            "✅https://chat.whatsapp.com/9egpgptrvkmiijtkbuyvfu\n",
            "\n",
            "eis a rede bolsonarista - to\n",
            "\n",
            "🔰 *grupo whatsapp central* 🔰: https://chat.whatsapp.com/kgdkfevx2izgdbome188fj\n",
            "\n",
            "➡ facebook: https://www.facebook.com/direitapalmas\n",
            "\n",
            "➡ blog: https://bolsonarista.wordpress.com\n",
            "\n",
            "➡ canal youtube: https://www.youtube.com/channel/uc3uaveaivmcexbrgel7vvmw\n",
            "\n",
            "loja camisetas 😎: \n",
            "\n",
            "✅ https://chat.whatsapp.com/l3i1537rnklfoyyurccm2z\n",
            "\n",
            "🛒 venda de camisetas do mito júnior: [telefone] \n",
            "\n",
            "resoluções do grupo para os 1 últimos dias\n",
            "\n",
            "1. postar os candidatos que passaram pelo crivo do grupo: farlei senador, patrícia federal, edisom estadual e lucas estadual.\n",
            "\n",
            "2. trabalhar os grupos de cada cidade em especial das 40 maiores. e observar e pedir ajuda as lideranças que podem criar novos grupos em todas as cidades do tocantins.\n",
            "\n",
            "3. enviar os links desses grupos para que as pessoas possam migrar para os grupos das cidades onde o trabalho será intensificado com foco.\n",
            "\n",
            "4. o foco estratégico é compartilhar a página de referência no tocantins: direita palmas e amor pelo brasil. somos 50 bolsonaristas em palmas se todos compartilherem chegaremos aos potenciais eleitores.\n",
            "\n",
            "5. foco nas postagem no whastapp evitar envios redundantes sem foco eleitoral. queremos ganhar queremos voto, precisamos massificar o nome e número dos candidatos da chapa do bolsonaro.\n",
            "\n",
            "6. postar os vídeos do farlei mayer, patrícia fleischer, edisom alves e lucas belinelli nos nossos grupos e redes sociais.\n",
            "\n",
            "vamos ajudar o capitão! conte conosco!\n",
            "\n",
            "👉 note: estamos na reta final, agora o mais importante é chegar ao maior número de potenciais eleitores do mito. \n",
            "\n",
            "👉 conteúdo: nossa páginas do facebook lhe darão o conteúdo de apoio. a ordem é crescer os grupos e eliminar os cabos eleitorais dos adversários do projeto bolsonaro 2018.\n",
            "\n",
            "========================================================================================================================================================================================================\n",
            "\n",
            "https://youtu.be/nlqvei7p72w\n",
            "\n",
            "ontem na 304 sul 👆\n",
            "\n",
            "presidente: bolsonaro 1⃣7⃣\n",
            "senador: farlei mayer \n",
            "1⃣7⃣0⃣\n",
            "federal: patrícia fleischer \n",
            "1⃣7⃣7⃣7⃣\n",
            "estadual: prof. edisom alves \n",
            "1⃣7⃣7⃣0⃣0⃣\n",
            "\n",
            "é no 1° turno! ✨✨✨✨✨\n",
            "\n",
            "                         reta final \n",
            "\n",
            "\n",
            "✨✨  marcha para o interior do tocantins ✨✨\n",
            "\n",
            "👀 veja se sua cidade possui grupo pró-bolsonaro, abaixo 38 cidades 💯% capitão! \n",
            "\n",
            "1. palmas\n",
            "\n",
            "✅https://chat.whatsapp.com/2idcufejoeqba0k5ox1cwg\n",
            "\n",
            "                 1.1 luzimangues\n",
            "\n",
            "                 ✅ https://chat.whatsapp.com/6mcy9s9vcnvax3jlzxyzja\n",
            "\n",
            "                 1.2 taquaralto.     \n",
            "\n",
            "                  ✅ https://chat.whatsapp.com/apppzatmz5v5wh00awozyo\n",
            "\n",
            "                 1.3 aureny iii\n",
            "\n",
            "                 ✅ https://chat.whatsapp.com/4ulz3dtijg8gdvjvddr7al\n",
            "     \n",
            "                1.4 buritirana \n",
            "\n",
            "                ✅https://chat.whatsapp.com/1kj55lnib0pja0xg7yl1dn\n",
            "\n",
            "               1.5 vila união (arnos)\n",
            "\n",
            "               ✅https://chat.whatsapp.com/hngaw0hllfpefpbnp8ak40\n",
            "\n",
            "                1.6 taquari\n",
            "\n",
            "                 ✅https://chat.whatsapp.com/56lvsx6bta02iylmeth14p\n",
            "\n",
            "                  1.7 feira da 304 sul\n",
            "         \n",
            "                   ✅https://chat.whatsapp.com/gapm2ptuqka68qjujsfoqk\n",
            "\n",
            "2. araguaína\n",
            "\n",
            "✅https://chat.whatsapp.com/5ekvlbo4o1d1rccprajb2w\n",
            "\n",
            "3. gurupi\n",
            "\n",
            "✅https://chat.whatsapp.com/hn6hyxjhfmd4gfwynb45te\n",
            "\n",
            "4. porto nacional \n",
            "\n",
            "✅https://chat.whatsapp.com/7glwnhbwz5ofuvmqyphehq\n",
            "\n",
            "5. paraíso do tocantins\n",
            "\n",
            "✅https://chat.whatsapp.com/abojvsdkjax1jmgtmttxcq\n",
            "\n",
            "6. colinas do tocantins\n",
            "\n",
            "✅https://chat.whatsapp.com/abojvsdkjax1jmgtmttxcq\n",
            "\n",
            "7. araguatins\n",
            "\n",
            "✅https://chat.whatsapp.com/3pjh2kiuei853gk6rszlrk \n",
            "\n",
            "8. guaraí\n",
            "\n",
            "✅https://chat.whatsapp.com/8leiesmosxr6papw3datha\n",
            "\n",
            "9. tocantinópolis\n",
            "\n",
            "✅https://chat.whatsapp.com/3lgbraaczhz8gkziszx5iy\n",
            "\n",
            "10. miracema do tocantins\n",
            "\n",
            "✅https://chat.whatsapp.com/16vkmkhxic7govcucwnaqn\n",
            "\n",
            "11. formoso do araguaia\n",
            "\n",
            "✅https://chat.whatsapp.com/ah71fdx9rlfdsdrcvzjljx\n",
            "\n",
            "12. dianópolis \n",
            "\n",
            "✅https://chat.whatsapp.com/4tmfsoen8kj62kkz0fjqzq\n",
            "\n",
            "13. augustinópolis \n",
            "\n",
            "✅https://chat.whatsapp.com/0p3ele77vbnb1n57fvszdb\n",
            "\n",
            "14. taguatinga\n",
            "\n",
            "✅https://chat.whatsapp.com/9mejtmc45nw6tcpsmojga4\n",
            "\n",
            "15. miranorte \n",
            "\n",
            "✅https://chat.whatsapp.com/5wrwgkacx3iddjzlypyosj\n",
            "\n",
            "16. pedro afonso\n",
            "\n",
            "✅https://chat.whatsapp.com/2dmefxwo4hqbd6tlgvdc3a\n",
            "\n",
            "17. xambioá\n",
            "\n",
            "✅https://chat.whatsapp.com/cppugyjzlcvjbtyl4x8xpq\n",
            "\n",
            "18. axixá do tocantins\n",
            "\n",
            "✅https://chat.whatsapp.com/igssgurut9hb6dmvfjorrx\n",
            "\n",
            "19. lagoa da confusão\n",
            "\n",
            "✅https://chat.whatsapp.com/jmwjainsje8ej2abdb0sjq\n",
            "\n",
            "20. arraias\n",
            "\n",
            "✅https://chat.whatsapp.com/8uc37bhilal2cdbdui4dqq\n",
            "\n",
            "21. praia norte\n",
            "\n",
            "✅https://chat.whatsapp.com/1fayk5h9wghlhg88ejujcg\n",
            "\n",
            "22. goiatins\n",
            "\n",
            "✅https://chat.whatsapp.com/bthktncrglkgasocq68ome\n",
            "\n",
            "23. centenário\n",
            "\n",
            "✅https://chat.whatsapp.com/79cnno6zr2b2le9xvayzrb\n",
            "\n",
            "24. são bento do tocantins\n",
            "\n",
            "✅https://chat.whatsapp.com/agvglqzw2nvjdithtrsycx\n",
            "\n",
            "25. ananás\n",
            "\n",
            "✅https://chat.whatsapp.com/ihevesgv9pless1wwmbjee\n",
            "\n",
            "26. lagoa do tocantins\n",
            "\n",
            "✅https://chat.whatsapp.com/2bzndpchdx1bnnttal2mb5\n",
            "\n",
            "27. aliança\n",
            "\n",
            "✅https://chat.whatsapp.com/j54kzacg3ml6hbddwsfiam\n",
            "\n",
            "28. guaraí\n",
            "\n",
            "✅https://chat.whatsapp.com/8leiesmosxr6papw3datha\n",
            "\n",
            "29. novo acordo\n",
            "\n",
            "✅https://chat.whatsapp.com/1o6ukt8ktat2j2iwlke5sz\n",
            "\n",
            "30. pequizeiro\n",
            "\n",
            "✅https://chat.whatsapp.com/br7ny0lzbwg6ccji6tchmq\n",
            "\n",
            "31. colinas\n",
            "\n",
            "✅https://chat.whatsapp.com/abojvsdkjax1jmgtmttxcq\n",
            "\n",
            "32. bernardo sayão\n",
            "\n",
            "✅https://chat.whatsapp.com/5fa205arurjfnumwgi9sxb\n",
            "\n",
            "33. formoso do araguaia\n",
            "\n",
            "✅https://chat.whatsapp.com/ah71fdx9rlfdsdrcvzjljx\n",
            "\n",
            "34. axixá\n",
            "\n",
            "✅https://chat.whatsapp.com/igssgurut9hb6dmvfjorrx\n",
            "\n",
            "35. pium\n",
            "\n",
            "✅https://chat.whatsapp.com/kike6tsfetakhat2lalfku\n",
            "\n",
            "36. talismã\n",
            "\n",
            "✅https://chat.whatsapp.com/kp10rey7932ddkqi8bocgb\n",
            "\n",
            "37. santa rosa\n",
            "\n",
            "✅https://chat.whatsapp.com/1ljdiquj4mhhixs2hcd4ko\n",
            "\n",
            "38. marianópolis\n",
            "\n",
            "✅https://chat.whatsapp.com/ikbwki0qtm9afcicgtfmyo\n",
            "\n",
            "eis a rede bolsonarista - to\n",
            "\n",
            "🔰 *grupo whatsapp central* 🔰: https://chat.whatsapp.com/kgdkfevx2izgdbome188fj\n",
            "\n",
            "➡ facebook: https://www.facebook.com/direitapalmas\n",
            "\n",
            "➡ blog: https://bolsonarista.wordpress.com\n",
            "\n",
            "➡ canal youtube: https://www.youtube.com/channel/uc3uaveaivmcexbrgel7vvmw\n",
            "\n",
            "loja camisetas 😎: \n",
            "\n",
            "✅ https://chat.whatsapp.com/l3i1537rnklfoyyurccm2z\n",
            "\n",
            "🛒 venda de camisetas do mito júnior: [telefone] \n",
            "\n",
            "resoluções do grupo para os 1 últimos dias\n",
            "\n",
            "1. postar os candidatos que passaram pelo crivo do grupo: farlei senador, patrícia federal, edisom estadual e lucas estadual.\n",
            "\n",
            "2. trabalhar os grupos de cada cidade em especial das 40 maiores. e observar e pedir ajuda as lideranças que podem criar novos grupos em todas as cidades do tocantins.\n",
            "\n",
            "3. enviar os links desses grupos para que as pessoas possam migrar para os grupos das cidades onde o trabalho será intensificado com foco.\n",
            "\n",
            "4. o foco estratégico é compartilhar a página de referência no tocantins: direita palmas e amor pelo brasil. somos 50 bolsonaristas em palmas se todos compartilherem chegaremos aos potenciais eleitores.\n",
            "\n",
            "5. foco nas postagem no whastapp evitar envios redundantes sem foco eleitoral. queremos ganhar queremos voto, precisamos massificar o nome e número dos candidatos da chapa do bolsonaro.\n",
            "\n",
            "6. postar os vídeos do farlei mayer, patrícia fleischer, edisom alves e lucas belinelli nos nossos grupos e redes sociais.\n",
            "\n",
            "vamos ajudar o capitão! conte conosco!\n",
            "\n",
            "👉 note: estamos na reta final, agora o mais importante é chegar ao maior número de potenciais eleitores do mito. \n",
            "\n",
            "👉 conteúdo: nossa páginas do facebook lhe darão o conteúdo de apoio. a ordem é crescer os grupos e eliminar os cabos eleitorais dos adversários do projeto bolsonaro 2018.\n",
            "\n",
            "========================================================================================================================================================================================================\n",
            "\n",
            "✨✨  marcha para o interior do tocantins ✨✨\n",
            "\n",
            "projeto: bolsonaro 2018, vencer no 1° turno no tocantins\n",
            "\n",
            "20 cidades onde bolsonaro precisa vencer no 1° turno no tocantins\n",
            "\n",
            "🤷♀ como posso ajudar?\n",
            "\n",
            "👉 resposta: você, eu e todos nós podemos ajudar a crescer os grupos direcionando os contatos para as respectivas localidade de suas residências, onde você pode ajudar a organizar os apoiadores de jair bolsonaro, em todos os municípios do tocantins. pela ordem vamos começar nos maiores colégios eleitorais, ok? \n",
            "👉 note: estamos na reta final, agora o mais importante é chegar ao maior número de potenciais eleitores do mito. \n",
            "👉 conteúdo: nossa páginas do facebook lhe darão o conteúdo de apoio. a ordem é crescer os grupos e eliminar os cabos eleitorais dos adversários do projeto bolsonaro 2018.\n",
            "\n",
            "1. palmas\n",
            "\n",
            "✅ https://chat.whatsapp.com/2idcufejoeqba0k5ox1cwg\n",
            "\n",
            "                 1.1 luzimangues\n",
            "\n",
            "                 ✅ https://chat.whatsapp.com/6mcy9s9vcnvax3jlzxyzja\n",
            "\n",
            "2. araguaína\n",
            "\n",
            "✅ https://chat.whatsapp.com/5ekvlbo4o1d1rccprajb2w\n",
            "\n",
            "3. gurupi\n",
            "\n",
            "✅ https://chat.whatsapp.com/hn6hyxjhfmd4gfwynb45te\n",
            "\n",
            "4. porto nacional \n",
            "\n",
            "✅ https://chat.whatsapp.com/7glwnhbwz5ofuvmqyphehq\n",
            "\n",
            "5. paraíso do tocantins\n",
            "\n",
            "✅ https://chat.whatsapp.com/abojvsdkjax1jmgtmttxcq\n",
            "\n",
            "6. colinas do tocantins\n",
            "\n",
            "✅ https://chat.whatsapp.com/3pjh2kiuei853gk6rszlrk\n",
            "\n",
            "7. araguatins\n",
            "\n",
            "✅ https://chat.whatsapp.com/1dqhsegrqbl7oleqtxwk97\n",
            "\n",
            "8. guaraí\n",
            "\n",
            "✅ https://chat.whatsapp.com/8leiesmosxr6papw3datha\n",
            "\n",
            "9. tocantinópolis\n",
            "\n",
            "✅ https://chat.whatsapp.com/3lgbraaczhz8gkziszx5iy\n",
            "\n",
            "10. miracema do tocantins\n",
            "\n",
            "✅ https://chat.whatsapp.com/16vkmkhxic7govcucwnaqn\n",
            "\n",
            "11. formoso do araguaia\n",
            "\n",
            "✅ https://chat.whatsapp.com/ah71fdx9rlfdsdrcvzjljx\n",
            "\n",
            "12. dianópolis (não tem grupo)\n",
            "\n",
            "✅\n",
            "\n",
            "13. augustinópolis \n",
            "\n",
            "✅\n",
            "\n",
            "14. taguatinga\n",
            "\n",
            "✅\n",
            "\n",
            "15. miranorte \n",
            "\n",
            "✅\n",
            "\n",
            "16. pedro afonso\n",
            "\n",
            "✅ https://chat.whatsapp.com/2dmefxwo4hqbd6tlgvdc3a\n",
            "\n",
            "17. xambioá\n",
            "\n",
            "✅ \n",
            "\n",
            "18. axixá do tocantins\n",
            "\n",
            "✅ https://chat.whatsapp.com/igssgurut9hb6dmvfjorrx\n",
            "\n",
            "19. lagoa da confusão\n",
            "\n",
            "✅ https://chat.whatsapp.com/jmwjainsje8ej2abdb0sjq\n",
            "\n",
            "20. arraias\n",
            "\n",
            "✅ \n",
            "\n",
            "estatuto\n",
            "\n",
            "1. objetivo único apoio a bolsonaro.\n",
            "\n",
            "2. organizar nova etapa de inauguração de grupo.\n",
            "\n",
            "3. orientar as iniciativas nas demais redes sociais como: facebook, you tube...\n",
            "\n",
            "4. estabelecer meta\n",
            "\n",
            "5. monitorar\n",
            "\n",
            "6. avaliar\n",
            "\n",
            "7. buscar informação precisa e dizer a verdade\n",
            "\n",
            "8. elogiar, urbanidade\n",
            "\n",
            "9. zelar pela integridade dos grupos \n",
            "\n",
            "10. proliferar \n",
            "\n",
            "eis o estatuto da rede bolsonarista - to\n",
            "\n",
            "🔰 *grupo whatsapp central* 🔰: https://chat.whatsapp.com/kgdkfevx2izgdbome188fj\n",
            "\n",
            "➡ facebook: https://www.facebook.com/direitapalmas\n",
            "\n",
            "➡ blog: https://bolsonarista.wordpress.com\n",
            "\n",
            "➡ canal youtube: https://www.youtube.com/channel/uc3uaveaivmcexbrgel7vvmw\n",
            "\n",
            "loja camisetas 😎: \n",
            "\n",
            "✅ https://chat.whatsapp.com/l3i1537rnklfoyyurccm2z\n",
            "\n",
            "presidente: bolsonaro 1⃣7⃣\n",
            "senador: farlei 1⃣7⃣0⃣\n",
            "federal: patrícia 1⃣7⃣7⃣7⃣\n",
            "estadual: professor edison 1⃣7⃣7⃣0⃣0⃣\n"
          ]
        }
      ]
    },
    {
      "cell_type": "markdown",
      "metadata": {
        "id": "der0U9vCYpeg"
      },
      "source": [
        "## Treinando e avaliando algoritmo"
      ],
      "id": "der0U9vCYpeg"
    },
    {
      "cell_type": "markdown",
      "metadata": {
        "id": "DoX6eNlgjQX3"
      },
      "source": [
        "### Classificador probabilístico Naive Bayes"
      ],
      "id": "DoX6eNlgjQX3"
    },
    {
      "cell_type": "code",
      "metadata": {
        "id": "YedHxCNVYs4M"
      },
      "source": [
        "from sklearn.naive_bayes import GaussianNB"
      ],
      "id": "YedHxCNVYs4M",
      "execution_count": null,
      "outputs": []
    },
    {
      "cell_type": "code",
      "metadata": {
        "ExecuteTime": {
          "end_time": "2021-11-08T19:52:58.296692Z",
          "start_time": "2021-11-08T19:52:58.288666Z"
        },
        "id": "5b0f249a"
      },
      "source": [
        "clf = GaussianNB()"
      ],
      "id": "5b0f249a",
      "execution_count": null,
      "outputs": []
    },
    {
      "cell_type": "code",
      "metadata": {
        "ExecuteTime": {
          "end_time": "2021-11-08T19:37:37.296595Z",
          "start_time": "2021-11-08T19:37:37.275600Z"
        },
        "id": "3e11d80c",
        "colab": {
          "base_uri": "https://localhost:8080/"
        },
        "outputId": "6d79a87b-4b4f-4f50-e452-636d29e559b0"
      },
      "source": [
        "clf.fit(X_train, y_train)"
      ],
      "id": "3e11d80c",
      "execution_count": null,
      "outputs": [
        {
          "output_type": "execute_result",
          "data": {
            "text/plain": [
              "GaussianNB()"
            ]
          },
          "metadata": {},
          "execution_count": 31
        }
      ]
    },
    {
      "cell_type": "markdown",
      "metadata": {
        "id": "f2fT5fC4jwJg"
      },
      "source": [
        "### Avaliando resultados de treino e validação"
      ],
      "id": "f2fT5fC4jwJg"
    },
    {
      "cell_type": "code",
      "metadata": {
        "id": "k-H9RLsBizW2"
      },
      "source": [
        "from sklearn.metrics import (\n",
        "    accuracy_score,\n",
        "    classification_report,\n",
        "    ConfusionMatrixDisplay\n",
        ")"
      ],
      "id": "k-H9RLsBizW2",
      "execution_count": null,
      "outputs": []
    },
    {
      "cell_type": "code",
      "metadata": {
        "colab": {
          "base_uri": "https://localhost:8080/"
        },
        "id": "3yHBomJxjrCg",
        "outputId": "78683466-fe64-42f3-f6a3-8381a08488fd"
      },
      "source": [
        "clf.score(X_train, y_train)"
      ],
      "id": "3yHBomJxjrCg",
      "execution_count": null,
      "outputs": [
        {
          "output_type": "execute_result",
          "data": {
            "text/plain": [
              "0.8369651662160013"
            ]
          },
          "metadata": {},
          "execution_count": 33
        }
      ]
    },
    {
      "cell_type": "code",
      "metadata": {
        "id": "FANzlGeAYxJ8"
      },
      "source": [
        "y_pred_val = clf.predict(X_val)"
      ],
      "id": "FANzlGeAYxJ8",
      "execution_count": null,
      "outputs": []
    },
    {
      "cell_type": "code",
      "metadata": {
        "id": "u_OjBCk_llPB",
        "colab": {
          "base_uri": "https://localhost:8080/"
        },
        "outputId": "c7028a87-e426-4068-fe83-f851cb49cffd"
      },
      "source": [
        "print(f'Accuracy: {accuracy_score(y_val, y_pred_val)}')"
      ],
      "id": "u_OjBCk_llPB",
      "execution_count": null,
      "outputs": [
        {
          "output_type": "stream",
          "name": "stdout",
          "text": [
            "Accuracy: 0.7538167938931297\n"
          ]
        }
      ]
    },
    {
      "cell_type": "code",
      "metadata": {
        "colab": {
          "base_uri": "https://localhost:8080/"
        },
        "id": "a-PQLCJyjMiO",
        "outputId": "329e22ea-a878-4b92-a9bc-08a3a0a32e55"
      },
      "source": [
        "print(classification_report(\n",
        "    y_val, y_pred_val, target_names=['not misinformation', 'misinformation']\n",
        "))"
      ],
      "id": "a-PQLCJyjMiO",
      "execution_count": null,
      "outputs": [
        {
          "output_type": "stream",
          "name": "stdout",
          "text": [
            "                    precision    recall  f1-score   support\n",
            "\n",
            "not misinformation       0.74      0.88      0.80       898\n",
            "    misinformation       0.78      0.59      0.67       674\n",
            "\n",
            "          accuracy                           0.75      1572\n",
            "         macro avg       0.76      0.73      0.74      1572\n",
            "      weighted avg       0.76      0.75      0.75      1572\n",
            "\n"
          ]
        }
      ]
    },
    {
      "cell_type": "code",
      "metadata": {
        "colab": {
          "base_uri": "https://localhost:8080/",
          "height": 279
        },
        "id": "VFKxO737jPbR",
        "outputId": "be2c5fd4-b20d-4b5b-df5f-486605f6a925"
      },
      "source": [
        "ConfusionMatrixDisplay.from_predictions(\n",
        "    y_val, y_pred_val, \n",
        "    display_labels=['not misinformation', 'misinformation'], \n",
        "    normalize='true',\n",
        "    cmap=plt.cm.binary\n",
        ");"
      ],
      "id": "VFKxO737jPbR",
      "execution_count": null,
      "outputs": [
        {
          "output_type": "display_data",
          "data": {
            "image/png": "[encoded data removed]",
            "text/plain": [
              "<Figure size 432x288 with 2 Axes>"
            ]
          },
          "metadata": {
            "needs_background": "light"
          }
        }
      ]
    },
    {
      "cell_type": "code",
      "metadata": {
        "id": "j8oWLtxgoTnN"
      },
      "source": [
        ""
      ],
      "id": "j8oWLtxgoTnN",
      "execution_count": null,
      "outputs": []
    }
  ]
}